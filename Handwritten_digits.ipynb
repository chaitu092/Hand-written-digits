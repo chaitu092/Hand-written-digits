{
 "cells": [
  {
   "cell_type": "code",
   "execution_count": 1,
   "metadata": {},
   "outputs": [],
   "source": [
    "import numpy as np\n",
    "\n"
   ]
  },
  {
   "cell_type": "code",
   "execution_count": 2,
   "metadata": {},
   "outputs": [],
   "source": [
    "from sklearn import datasets\n",
    "from sklearn.datasets import load_digits\n",
    "dataset=load_digits()\n",
    "\n",
    "data=dataset.data\n",
    "target=dataset.target\n",
    "images=dataset.images"
   ]
  },
  {
   "cell_type": "code",
   "execution_count": 3,
   "metadata": {},
   "outputs": [
    {
     "name": "stdout",
     "output_type": "stream",
     "text": [
      "data shape (1797, 64)\n",
      "target shape (1797,)\n",
      "images shape (1797, 8, 8)\n"
     ]
    }
   ],
   "source": [
    "print('data shape',data.shape)\n",
    "print('target shape',target.shape)\n",
    "print('images shape',images.shape)"
   ]
  },
  {
   "cell_type": "code",
   "execution_count": 4,
   "metadata": {},
   "outputs": [
    {
     "name": "stdout",
     "output_type": "stream",
     "text": [
      "target: 0\n"
     ]
    },
    {
     "data": {
      "image/png": "[encoded data removed]",
      "text/plain": [
       "<Figure size 432x288 with 1 Axes>"
      ]
     },
     "metadata": {
      "needs_background": "light"
     },
     "output_type": "display_data"
    }
   ],
   "source": [
    "from matplotlib import pyplot as plt\n",
    "plt.imshow(images[0],cmap='gray')\n",
    "print('target:',target[0])"
   ]
  },
  {
   "cell_type": "code",
   "execution_count": 5,
   "metadata": {},
   "outputs": [
    {
     "data": {
      "text/plain": [
       "<matplotlib.image.AxesImage at 0x1e55ac425e0>"
      ]
     },
     "execution_count": 5,
     "metadata": {},
     "output_type": "execute_result"
    },
    {
     "data": {
      "image/png": "[encoded data removed]",
      "text/plain": [
       "<Figure size 432x288 with 1 Axes>"
      ]
     },
     "metadata": {
      "needs_background": "light"
     },
     "output_type": "display_data"
    }
   ],
   "source": [
    "# flattern version the data\n",
    "\n",
    "plt.imshow(data[1000].reshape(1,64),cmap='gray')"
   ]
  },
  {
   "cell_type": "code",
   "execution_count": 6,
   "metadata": {},
   "outputs": [
    {
     "name": "stdout",
     "output_type": "stream",
     "text": [
      "[[ 0.  0.  1. 14.  2.  0.  0.  0.]\n",
      " [ 0.  0.  0. 16.  5.  0.  0.  0.]\n",
      " [ 0.  0.  0. 14. 10.  0.  0.  0.]\n",
      " [ 0.  0.  0. 11. 16.  1.  0.  0.]\n",
      " [ 0.  0.  0.  3. 14.  6.  0.  0.]\n",
      " [ 0.  0.  0.  0.  8. 12.  0.  0.]\n",
      " [ 0.  0. 10. 14. 13. 16.  8.  3.]\n",
      " [ 0.  0.  2. 11. 12. 15. 16. 15.]]\n"
     ]
    }
   ],
   "source": [
    "print(images[1000])"
   ]
  },
  {
   "cell_type": "code",
   "execution_count": 7,
   "metadata": {},
   "outputs": [
    {
     "name": "stdout",
     "output_type": "stream",
     "text": [
      "[ 0.  0.  1. 14.  2.  0.  0.  0.  0.  0.  0. 16.  5.  0.  0.  0.  0.  0.\n",
      "  0. 14. 10.  0.  0.  0.  0.  0.  0. 11. 16.  1.  0.  0.  0.  0.  0.  3.\n",
      " 14.  6.  0.  0.  0.  0.  0.  0.  8. 12.  0.  0.  0.  0. 10. 14. 13. 16.\n",
      "  8.  3.  0.  0.  2. 11. 12. 15. 16. 15.]\n"
     ]
    }
   ],
   "source": [
    "print(data[1000])"
   ]
  },
  {
   "cell_type": "code",
   "execution_count": 8,
   "metadata": {},
   "outputs": [
    {
     "name": "stdout",
     "output_type": "stream",
     "text": [
      "1\n"
     ]
    }
   ],
   "source": [
    "print(target[1000])"
   ]
  },
  {
   "cell_type": "code",
   "execution_count": 9,
   "metadata": {},
   "outputs": [],
   "source": [
    "from sklearn.model_selection import train_test_split\n",
    "result=train_test_split(data,target,test_size=0.2)\n",
    "train_data=result[0]\n",
    "test_data=result[1]\n",
    "train_target=result[2]\n",
    "test_target=result[3]"
   ]
  },
  {
   "cell_type": "code",
   "execution_count": 10,
   "metadata": {},
   "outputs": [
    {
     "name": "stdout",
     "output_type": "stream",
     "text": [
      "0.23.2\n"
     ]
    }
   ],
   "source": [
    "import sklearn\n",
    "print(sklearn.__version__)"
   ]
  },
  {
   "cell_type": "code",
   "execution_count": 11,
   "metadata": {},
   "outputs": [
    {
     "data": {
      "text/plain": [
       "KNeighborsClassifier(n_neighbors=3)"
      ]
     },
     "execution_count": 11,
     "metadata": {},
     "output_type": "execute_result"
    }
   ],
   "source": [
    "from sklearn.neighbors import KNeighborsClassifier\n",
    "\n",
    "#loading KNN algorithm to model\n",
    "model= KNeighborsClassifier(n_neighbors=3)\n",
    "\n",
    "#training the model\n",
    "model.fit(train_data,train_target)"
   ]
  },
  {
   "cell_type": "code",
   "execution_count": 12,
   "metadata": {},
   "outputs": [
    {
     "name": "stdout",
     "output_type": "stream",
     "text": [
      "train data size: (1437, 64)\n",
      "test data size: (360, 64)\n"
     ]
    }
   ],
   "source": [
    "print('train data size:',train_data.shape)\n",
    "print('test data size:',test_data.shape )"
   ]
  },
  {
   "cell_type": "code",
   "execution_count": 13,
   "metadata": {},
   "outputs": [],
   "source": [
    "#applying test images into trained mosdel\n",
    "predicted_target=model.predict(test_data)"
   ]
  },
  {
   "cell_type": "code",
   "execution_count": 14,
   "metadata": {},
   "outputs": [
    {
     "name": "stdout",
     "output_type": "stream",
     "text": [
      "Accuracy: 0.9888888888888889\n"
     ]
    }
   ],
   "source": [
    "from sklearn.metrics import accuracy_score\n",
    "\n",
    "acc=accuracy_score(test_target,predicted_target)\n",
    "print('Accuracy:',acc)"
   ]
  },
  {
   "cell_type": "code",
   "execution_count": 15,
   "metadata": {},
   "outputs": [
    {
     "name": "stdout",
     "output_type": "stream",
     "text": [
      "Predicted_digits: [1 5 5 8 8 2 4 3 5 9 5 1 7 7 5 1 9 6 1 3 5 8 1 2 8 6 6 6 4 6 5 6 9 8 2 4 6\n",
      " 2 4 8 1 2 7 8 8 7 1 6 1 5 4 0 3 3 3 8 4 9 5 1 8 4 1 2 6 6 4 5 2 0 2 8 1 2\n",
      " 8 2 5 3 0 1 9 0 2 2 4 6 1 5 1 6 4 0 9 0 4 8 8 1 5 2 3 2 6 7 2 3 2 9 5 3 3\n",
      " 1 6 6 8 2 4 3 1 6 7 1 4 4 0 5 4 4 9 7 7 0 7 6 4 1 4 3 0 6 8 8 3 8 2 6 9 3\n",
      " 9 6 8 5 1 9 9 0 6 4 5 7 2 7 6 2 7 0 8 5 6 5 5 5 7 7 1 5 0 3 0 4 4 5 7 6 0\n",
      " 1 6 8 0 1 6 9 3 9 4 0 9 4 6 9 6 0 7 5 2 5 6 5 5 3 6 0 0 2 1 1 2 9 8 2 3 0\n",
      " 8 1 4 6 0 2 5 7 0 6 1 5 0 8 9 0 7 9 7 8 1 5 5 6 9 2 1 3 4 6 2 9 8 8 9 8 0\n",
      " 0 0 4 0 2 5 0 4 6 4 4 4 2 5 8 7 8 4 5 4 9 4 4 3 7 0 3 1 4 2 0 3 5 9 1 1 6\n",
      " 9 6 1 2 9 1 5 9 1 6 3 9 7 2 3 5 8 9 8 6 4 7 7 2 6 2 6 6 2 4 4 0 7 3 0 6 3\n",
      " 4 9 5 8 7 5 3 2 2 8 5 2 0 2 2 1 3 8 3 4 5 3 4 0 3 0 5]\n",
      "Actual_digits: [1 5 5 8 8 2 4 3 5 9 5 1 7 7 5 1 9 6 1 3 5 8 1 2 8 6 6 6 4 6 5 6 9 8 2 4 6\n",
      " 2 4 8 1 2 7 8 8 7 1 6 1 5 4 0 3 3 3 8 4 9 5 1 8 9 1 2 6 6 4 5 2 0 2 8 1 2\n",
      " 8 2 5 3 0 1 9 0 2 2 4 6 8 5 1 6 4 0 9 0 4 8 8 1 5 2 3 2 6 7 2 3 2 9 5 3 3\n",
      " 8 6 6 8 2 4 3 1 6 7 8 4 4 0 5 4 4 9 7 7 0 7 6 4 1 4 3 0 6 8 8 3 8 2 6 9 3\n",
      " 9 6 8 5 1 9 9 0 6 4 5 7 2 7 6 2 7 0 8 5 6 5 5 5 7 7 1 5 0 3 0 4 4 5 7 6 0\n",
      " 1 6 8 0 1 6 9 3 9 4 0 9 4 6 9 6 0 7 5 2 5 6 5 5 3 6 0 0 2 1 1 2 9 8 2 3 0\n",
      " 8 1 4 6 0 2 5 7 0 6 1 5 0 8 9 0 7 9 7 8 1 5 5 6 9 2 1 3 4 6 2 9 8 8 9 8 0\n",
      " 0 0 4 0 2 5 0 4 6 4 4 4 2 5 8 7 8 4 5 4 9 4 4 3 7 0 3 1 4 2 0 3 5 9 1 1 6\n",
      " 9 6 1 2 9 1 5 9 1 6 3 9 7 2 3 5 8 9 8 6 4 7 7 2 6 2 6 6 2 4 4 0 7 3 0 6 3\n",
      " 4 9 5 8 7 5 3 2 2 8 5 2 0 2 2 1 3 8 3 4 5 3 4 0 3 0 5]\n"
     ]
    }
   ],
   "source": [
    "print('Predicted_digits:',predicted_target)\n",
    "print('Actual_digits:',test_target)"
   ]
  },
  {
   "cell_type": "code",
   "execution_count": 16,
   "metadata": {},
   "outputs": [],
   "source": [
    "import joblib"
   ]
  },
  {
   "cell_type": "code",
   "execution_count": 17,
   "metadata": {},
   "outputs": [
    {
     "data": {
      "text/plain": [
       "['KNN-handwritten-digits.sav']"
      ]
     },
     "execution_count": 17,
     "metadata": {},
     "output_type": "execute_result"
    }
   ],
   "source": [
    "joblib.dump(model,'KNN-handwritten-digits.sav')"
   ]
  },
  {
   "cell_type": "code",
   "execution_count": null,
   "metadata": {},
   "outputs": [],
   "source": []
  }
 ],
 "metadata": {
  "kernelspec": {
   "display_name": "Python 3",
   "language": "python",
   "name": "python3"
  },
  "language_info": {
   "codemirror_mode": {
    "name": "ipython",
    "version": 3
   },
   "file_extension": ".py",
   "mimetype": "text/x-python",
   "name": "python",
   "nbconvert_exporter": "python",
   "pygments_lexer": "ipython3",
   "version": "3.8.3"
  }
 },
 "nbformat": 4,
 "nbformat_minor": 4
}
